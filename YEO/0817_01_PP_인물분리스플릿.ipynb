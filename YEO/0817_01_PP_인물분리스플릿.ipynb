{
 "cells": [
  {
   "cell_type": "code",
   "execution_count": 8,
   "id": "0c72d0cd",
   "metadata": {},
   "outputs": [],
   "source": [
    "# subject_split_si.py\n",
    "from pathlib import Path\n",
    "import shutil\n",
    "import pandas as pd\n",
    "from sklearn.model_selection import StratifiedGroupKFold"
   ]
  },
  {
   "cell_type": "code",
   "execution_count": 9,
   "id": "abe3cf55",
   "metadata": {},
   "outputs": [],
   "source": [
    "# === 설정 ===\n",
    "SRC = Path(\"./datasets/v2_korean_emotion_complex_vision_10_percent_split_processed\")  # 10% 전처리본 루트\n",
    "DST = Path(\"./datasets/v2_SI_korean_emotion_complex_vision_10_percent_split_processed\")                  # 새 SI 출력 루트\n",
    "SEED = 42\n",
    "VAL_RATIO = 0.2\n",
    "IMG_SUFFIXES = (\".jpg\", \".jpeg\", \".png\")  # 필요시 확장"
   ]
  },
  {
   "cell_type": "code",
   "execution_count": 10,
   "id": "a7752970",
   "metadata": {},
   "outputs": [],
   "source": [
    "def subject_id_from_name(fname: str) -> str:\n",
    "    # 규칙: 첫 '_' 이전 토큰이 subject id\n",
    "    # 예) \"0a3a21be68..._남_20_기쁨_...\" -> \"0a3a21be68...\"\n",
    "    return fname.split('_', 1)[0]"
   ]
  },
  {
   "cell_type": "code",
   "execution_count": 11,
   "id": "bb498198",
   "metadata": {},
   "outputs": [],
   "source": [
    "def scan_images(src: Path):\n",
    "    rows = []\n",
    "    for split in (\"train\", \"val\"):\n",
    "        split_dir = src / split\n",
    "        if not split_dir.exists():\n",
    "            continue\n",
    "        for img_path in split_dir.rglob(\"*\"):\n",
    "            if img_path.suffix.lower() in IMG_SUFFIXES and img_path.is_file():\n",
    "                emotion = img_path.parent.name  # 부모 폴더명이 감정 라벨\n",
    "                fname = img_path.name\n",
    "                sid = subject_id_from_name(fname)\n",
    "                rows.append({\"path\": img_path, \"emotion\": emotion, \"subject\": sid})\n",
    "    # 혹시 train/val 없이 바로 감정 폴더가 있는 구조도 지원\n",
    "    if not rows:\n",
    "        for img_path in src.rglob(\"*\"):\n",
    "            if img_path.suffix.lower() in IMG_SUFFIXES and img_path.is_file():\n",
    "                # .../<emotion>/<file>\n",
    "                emotion = img_path.parent.name\n",
    "                fname = img_path.name\n",
    "                sid = subject_id_from_name(fname)\n",
    "                rows.append({\"path\": img_path, \"emotion\": emotion, \"subject\": sid})\n",
    "    return pd.DataFrame(rows)"
   ]
  },
  {
   "cell_type": "code",
   "execution_count": 12,
   "id": "7b890d69",
   "metadata": {},
   "outputs": [],
   "source": [
    "def copy_pair(src_img: Path, dst_img: Path):\n",
    "    dst_img.parent.mkdir(parents=True, exist_ok=True)\n",
    "    # 파일 복사(빠르게 하고 싶으면 shutil.copy2 대신 하드링크/심볼릭링크로 바꿀 수 있음)\n",
    "    shutil.copy2(src_img, dst_img)\n",
    "    # 동일 이름의 .json 라벨이 있으면 같이 복사\n",
    "    src_json = src_img.with_suffix(\".json\")\n",
    "    if src_json.exists():\n",
    "        shutil.copy2(src_json, dst_img.with_suffix(\".json\"))"
   ]
  },
  {
   "cell_type": "code",
   "execution_count": 13,
   "id": "6124e344",
   "metadata": {},
   "outputs": [],
   "source": [
    "def main():\n",
    "    df = scan_images(SRC)\n",
    "    assert not df.empty, f\"이미지 못 찾음: {SRC}\"\n",
    "    print(f\"[scan] total images = {len(df)} | classes={sorted(df.emotion.unique())} | subjects={df.subject.nunique()}\")\n",
    "\n",
    "    # StratifiedGroupKFold: 클래스 분포 유지 + subject 단위 분리\n",
    "    n_splits = max(2, min(10, round(1 / VAL_RATIO)))  # 대략적인 분할 수 추정\n",
    "    sgkf = StratifiedGroupKFold(n_splits=n_splits, shuffle=True, random_state=SEED)\n",
    "    train_idx, val_idx = next(sgkf.split(df[\"path\"], df[\"emotion\"], groups=df[\"subject\"]))\n",
    "    train_df, val_df = df.iloc[train_idx], df.iloc[val_idx]\n",
    "\n",
    "    # 교차검증: subject 중복 없어야 함\n",
    "    assert set(train_df.subject).isdisjoint(set(val_df.subject)), \"train/val에 동일 subject가 섞였습니다!\"\n",
    "\n",
    "    # 복사\n",
    "    for split_name, split_df in [(\"train\", train_df), (\"val\", val_df)]:\n",
    "        for _, row in split_df.iterrows():\n",
    "            # 출력 경로: <DST>/<split>/<emotion>/<filename>\n",
    "            dst_img = DST / split_name / row[\"emotion\"] / row[\"path\"].name\n",
    "            copy_pair(row[\"path\"], dst_img)\n",
    "            \n",
    "    # 분포 로그\n",
    "    def pct(dfs):\n",
    "        return (dfs[\"emotion\"].value_counts(normalize=True).sort_index().round(3)).to_dict()\n",
    "    print(f\"[done] train={len(train_df)} val={len(val_df)} | train_dist={pct(train_df)} | val_dist={pct(val_df)}\")\n",
    "    print(f\"[subjects] train={train_df.subject.nunique()} val={val_df.subject.nunique()} | overlap=0\")"
   ]
  },
  {
   "cell_type": "code",
   "execution_count": 14,
   "id": "44f2478b",
   "metadata": {},
   "outputs": [
    {
     "name": "stdout",
     "output_type": "stream",
     "text": [
      "[scan] total images = 40517 | classes=['기쁨', '당황', '분노', '불안', '상처', '슬픔', '중립'] | subjects=995\n",
      "[done] train=31989 val=8528 | train_dist={'기쁨': 0.149, '당황': 0.149, '분노': 0.147, '불안': 0.146, '상처': 0.146, '슬픔': 0.147, '중립': 0.117} | val_dist={'기쁨': 0.146, '당황': 0.14, '분노': 0.149, '불안': 0.149, '상처': 0.148, '슬픔': 0.148, '중립': 0.121}\n",
      "[subjects] train=792 val=203 | overlap=0\n"
     ]
    }
   ],
   "source": [
    "if __name__ == \"__main__\":\n",
    "    main()"
   ]
  },
  {
   "cell_type": "code",
   "execution_count": null,
   "id": "700a16a1",
   "metadata": {},
   "outputs": [],
   "source": []
  }
 ],
 "metadata": {
  "kernelspec": {
   "display_name": "feellog-project",
   "language": "python",
   "name": "python3"
  },
  "language_info": {
   "codemirror_mode": {
    "name": "ipython",
    "version": 3
   },
   "file_extension": ".py",
   "mimetype": "text/x-python",
   "name": "python",
   "nbconvert_exporter": "python",
   "pygments_lexer": "ipython3",
   "version": "3.9.23"
  }
 },
 "nbformat": 4,
 "nbformat_minor": 5
}
