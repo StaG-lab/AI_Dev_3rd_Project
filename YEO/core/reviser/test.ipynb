{
 "cells": [
  {
   "cell_type": "code",
   "execution_count": 1,
   "id": "26f0549d",
   "metadata": {},
   "outputs": [],
   "source": [
    "# 경로 설정 (py 파일들이 같은 디렉토리에 있다고 가정)\n",
    "import sys\n",
    "from pathlib import Path\n",
    "\n",
    "sys.path.append(str(Path().resolve()))  # 현재 디렉토리를 import 경로에 추가\n"
   ]
  },
  {
   "cell_type": "code",
   "execution_count": 2,
   "id": "c3cd5d6c",
   "metadata": {},
   "outputs": [],
   "source": [
    "from intent import IntentResolver\n",
    "from data_engine import run_data_engine\n",
    "from summarize import Summarizer\n"
   ]
  },
  {
   "cell_type": "code",
   "execution_count": 3,
   "id": "7016d13a",
   "metadata": {},
   "outputs": [],
   "source": [
    "ROOT_DIR = Path(r\"D:\\ex\\최종프로젝트\\AI_Dev_3rd_Project\\CHOI\\feellog-project_03\\reports\\analysis\")"
   ]
  },
  {
   "cell_type": "code",
   "execution_count": null,
   "id": "518af121",
   "metadata": {},
   "outputs": [
    {
     "name": "stdout",
     "output_type": "stream",
     "text": [
      "Intent: {'mode': 'weekly', 'date': None, 'start': '2025-08-18', 'end': '2025-08-24', 'source': '저번주에 좀 피곤했었던거 같은데?', 'error': None}\n",
      "Period: {'average_sentiment_score': 36, 'dominant_emotions': [{'emotion': '상처', 'percentage': 0.5}, {'emotion': '중립', 'percentage': 0.25}, {'emotion': '기쁨', 'percentage': 0.25}], 'trend': {'by_day': [{'date': '2025-08-18', 'score': 20, 'top': '상처'}, {'date': '2025-08-19', 'score': None, 'top': None}, {'date': '2025-08-20', 'score': None, 'top': None}, {'date': '2025-08-21', 'score': 35, 'top': '중립'}, {'date': '2025-08-22', 'score': None, 'top': None}, {'date': '2025-08-23', 'score': 30, 'top': '상처'}, {'date': '2025-08-24', 'score': 60, 'top': '기쁨'}], 'notable_changes': [{'date': '2025-08-24', 'event': '점수 급변', 'delta': 30}, {'date': '2025-08-24', 'event': '주감정 전환: 상처→기쁨'}]}, 'meta': {'days_requested': ('2025-08-18', '2025-08-24'), 'days_covered': ['2025-08-18', '2025-08-21', '2025-08-23', '2025-08-24']}}\n",
      "Summary: {'summary_message': '전반적으로는 상처받는 감정이 많았지만 기쁨도 함께 느꼈던 시간이었네요. 8월 24일에는 감정 점수가 갑자기 30점이나 상승하며 주 감정이 상처에서 기쁨으로 완전히 바뀌었어요.  결론적으로는 기복이 큰 시기를 보냈지만, 긍정적인 변화도 있었던 멋진 시간이었답니다!', 'status': 'ok', 'raw': '```json\\n{\\n  \"summary_message\": \"전반적으로는 상처받는 감정이 많았지만 기쁨도 함께 느꼈던 시간이었네요. 8월 24일에는 감정 점수가 갑자기 30점이나 상승하며 주 감정이 상처에서 기쁨으로 완전히 바뀌었어요.  결론적으로는 기복이 큰 시기를 보냈지만, 긍정적인 변화도 있었던 멋진 시간이었답니다!\"\\n}\\n```\\n'}\n"
     ]
    }
   ],
   "source": [
    "# 1. 의도 파악\n",
    "resolver = IntentResolver(api_key=\"\", debug=False)\n",
    "intent = resolver.run(\"저번주에 좀 피곤했었던거 같은데?\")\n",
    "print(\"Intent:\", intent)\n",
    "\n",
    "# 2. 데이터 집계\n",
    "period = run_data_engine(intent,root_dir=ROOT_DIR)\n",
    "print(\"Period:\", period)\n",
    "\n",
    "# 3. 요약 생성\n",
    "summarizer = Summarizer(api_key=\"\", debug=False)\n",
    "summary = summarizer.summarize_period(period)\n",
    "print(\"Summary:\", summary)\n"
   ]
  },
  {
   "cell_type": "code",
   "execution_count": null,
   "id": "49448ed3",
   "metadata": {},
   "outputs": [],
   "source": []
  }
 ],
 "metadata": {
  "kernelspec": {
   "display_name": "feellog-project",
   "language": "python",
   "name": "python3"
  },
  "language_info": {
   "codemirror_mode": {
    "name": "ipython",
    "version": 3
   },
   "file_extension": ".py",
   "mimetype": "text/x-python",
   "name": "python",
   "nbconvert_exporter": "python",
   "pygments_lexer": "ipython3",
   "version": "3.9.23"
  }
 },
 "nbformat": 4,
 "nbformat_minor": 5
}
