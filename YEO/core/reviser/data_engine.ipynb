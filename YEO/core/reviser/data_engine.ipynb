{
 "cells": [
  {
   "cell_type": "code",
   "execution_count": 1,
   "id": "8ec7ac0d",
   "metadata": {},
   "outputs": [],
   "source": [
    "import json, re\n",
    "from pathlib import Path\n",
    "# from statistics import median\n",
    "from collections import Counter\n",
    "import numpy as np\n",
    "\n",
    "ROOT_DIR = Path(r\"D:\\ex\\최종프로젝트\\AI_Dev_3rd_Project\\CHOI\\feellog-project_03\\reports\\analysis\")"
   ]
  },
  {
   "cell_type": "code",
   "execution_count": 2,
   "id": "0d4eebb5",
   "metadata": {},
   "outputs": [],
   "source": [
    "def scan(date_range: dict, root_dir: Path):\n",
    "    \"\"\"\n",
    "    지정된 기간(date_range) 안의 analysis_result_*.json 파일들을 스캔\n",
    "    return: dict[date] -> list[Path]\n",
    "    \"\"\"\n",
    "    start = date_range.get(\"start\")\n",
    "    end   = date_range.get(\"end\")\n",
    "    files_by_day = {}\n",
    "\n",
    "    for p in Path(root_dir).glob(\"analysis_result_*.json\"):\n",
    "        m = re.search(r\"(\\d{8})\", p.name)\n",
    "        if not m:\n",
    "            continue\n",
    "        d = m.group(1)\n",
    "        day = f\"{d[:4]}-{d[4:6]}-{d[6:]}\"   # YYYY-MM-DD\n",
    "        if start <= day <= end:\n",
    "            files_by_day.setdefault(day, []).append(p)\n",
    "    return files_by_day\n",
    "\n"
   ]
  },
  {
   "cell_type": "code",
   "execution_count": 3,
   "id": "a681635b",
   "metadata": {},
   "outputs": [],
   "source": [
    "EMOTIONS = [\"기쁨\",\"당황\",\"분노\",\"불안\",\"상처\",\"슬픔\",\"중립\"]\n",
    "\n",
    "def load_and_normalize(path: Path):\n",
    "    \"\"\"\n",
    "    파일에서 감정 결과를 읽어 7감정 분포로 확장/정규화\n",
    "    return: dict {score:int, top:str, dist:dict}\n",
    "    \"\"\"\n",
    "    with open(path, encoding=\"utf-8\") as f:\n",
    "        raw = json.load(f)\n",
    "    score = raw.get(\"sentiment_score\")\n",
    "    top = raw.get(\"dominant_overall_emotion\")\n",
    "    \n",
    "    dist = {e:0.0 for e in EMOTIONS}\n",
    "    for item in raw.get(\"emotion_distribution\", []):\n",
    "        emo = item[\"emotion\"]\n",
    "        val = float(item[\"percentage\"].replace(\"%\",\"\"))/100\n",
    "        if emo in dist:\n",
    "            dist[emo] += val\n",
    "    # 정규화\n",
    "    s = sum(dist.values())\n",
    "    if s>0:\n",
    "        dist = {k:v/s for k,v in dist.items()}\n",
    "    return {\"score\":score, \"top\":top, \"dist\":dist}\n"
   ]
  },
  {
   "cell_type": "code",
   "execution_count": 4,
   "id": "1bb4513c",
   "metadata": {},
   "outputs": [],
   "source": [
    "def aggregate_daily(paths:list[Path]):\n",
    "    \"\"\"\n",
    "    하루 여러 파일 → DailyCardJSON\n",
    "    \"\"\"\n",
    "    recs = [load_and_normalize(p) for p in paths]\n",
    "    \n",
    "    scores = [r[\"score\"] for r in recs if r[\"score\"] is not None]\n",
    "    score = round(np.mean(scores)) if scores else None\n",
    "    \n",
    "    tops = [r[\"top\"] for r in recs if r[\"top\"]]\n",
    "    top = Counter(tops).most_common(1)[0][0] if tops else None\n",
    "    \n",
    "    dist_sum = {e:0 for e in EMOTIONS}\n",
    "    for r in recs:\n",
    "        for e,v in r[\"dist\"].items():\n",
    "            dist_sum[e]+=v\n",
    "    s = sum(dist_sum.values())\n",
    "    if s>0:\n",
    "        dist_sum = {k:v/s for k,v in dist_sum.items()}\n",
    "    \n",
    "    return {\"score\":score,\"top\":top,\"dist\":dist_sum}\n"
   ]
  },
  {
   "cell_type": "code",
   "execution_count": 5,
   "id": "899edca4",
   "metadata": {},
   "outputs": [],
   "source": [
    "def aggregate_period(cards:dict[str,dict]):\n",
    "    \"\"\"\n",
    "    여러 일간 카드 → 기간 리포트 JSON\n",
    "    \"\"\"\n",
    "    if not cards: return {}\n",
    "    \n",
    "    scores = [c[\"score\"] for c in cards.values() if c[\"score\"]]\n",
    "    avg_score = round(np.mean(scores)) if scores else None\n",
    "    \n",
    "    tops = [c[\"top\"] for c in cards.values() if c[\"top\"]]\n",
    "    top_counts = Counter(tops)\n",
    "    doms = [{\"emotion\":k,\"percentage\":v/len(tops)} for k,v in top_counts.items()]\n",
    "    \n",
    "    trend = [{\"date\":d,\"score\":c[\"score\"],\"top\":c[\"top\"]} for d,c in sorted(cards.items())]\n",
    "    \n",
    "    # 급변 탐지\n",
    "    notable=[]\n",
    "    for i in range(1,len(trend)):\n",
    "        delta = trend[i][\"score\"]-trend[i-1][\"score\"]\n",
    "        if abs(delta)>=10:\n",
    "            notable.append({\"date\":trend[i][\"date\"],\"event\":\"점수 급변\",\"delta\":delta})\n",
    "        if trend[i][\"top\"]!=trend[i-1][\"top\"]:\n",
    "            notable.append({\"date\":trend[i][\"date\"],\"event\":f\"주감정 전환: {trend[i-1]['top']}→{trend[i]['top']}\"})\n",
    "    \n",
    "    return {\"average_sentiment_score\":avg_score,\n",
    "            \"dominant_emotions\":doms,\n",
    "            \"trend\":{\"by_day\":trend,\"notable_changes\":notable}}\n"
   ]
  },
  {
   "cell_type": "code",
   "execution_count": 6,
   "id": "89c89932",
   "metadata": {},
   "outputs": [],
   "source": [
    "# 1. intent 모듈 결과 예시\n",
    "date_range = {\n",
    "    \"mode\": \"weekly\",\n",
    "    \"date\": None,\n",
    "    \"start\": \"2025-08-18\",\n",
    "    \"end\": \"2025-08-26\",\n",
    "    \"source\": \"저번주인가 일이 많아서 우울했던거 같은데 어땠더라?\"\n",
    "}\n",
    "\n",
    "# 2. 스캔\n",
    "files = scan(date_range, ROOT_DIR)\n",
    "\n",
    "# 3. 일간 집계\n",
    "daily_cards = {d:aggregate_daily(ps) for d,ps in files.items()}\n",
    "\n",
    "# 4. 기간 집계\n",
    "period = aggregate_period(daily_cards)\n"
   ]
  },
  {
   "cell_type": "code",
   "execution_count": 7,
   "id": "86266881",
   "metadata": {},
   "outputs": [
    {
     "data": {
      "text/plain": [
       "{'2025-08-18': {'score': 20,\n",
       "  'top': '상처',\n",
       "  'dist': {'기쁨': 0.0,\n",
       "   '당황': 0.26522981755539893,\n",
       "   '분노': 0.30280322605904003,\n",
       "   '불안': 0.0,\n",
       "   '상처': 0.43196695638556104,\n",
       "   '슬픔': 0.0,\n",
       "   '중립': 0.0}},\n",
       " '2025-08-21': {'score': 35,\n",
       "  'top': '중립',\n",
       "  'dist': {'기쁨': 0.0,\n",
       "   '당황': 0.1388888888888889,\n",
       "   '분노': 0.16666666666666666,\n",
       "   '불안': 0.0,\n",
       "   '상처': 0.19444444444444442,\n",
       "   '슬픔': 0.0,\n",
       "   '중립': 0.5}},\n",
       " '2025-08-23': {'score': 30,\n",
       "  'top': '상처',\n",
       "  'dist': {'기쁨': 0.0,\n",
       "   '당황': 0.0,\n",
       "   '분노': 0.3125,\n",
       "   '불안': 0.0,\n",
       "   '상처': 0.43749999999999994,\n",
       "   '슬픔': 0.25,\n",
       "   '중립': 0.0}},\n",
       " '2025-08-24': {'score': 60,\n",
       "  'top': '기쁨',\n",
       "  'dist': {'기쁨': 0.45,\n",
       "   '당황': 0.25,\n",
       "   '분노': 0.0,\n",
       "   '불안': 0.3,\n",
       "   '상처': 0.0,\n",
       "   '슬픔': 0.0,\n",
       "   '중립': 0.0}}}"
      ]
     },
     "execution_count": 7,
     "metadata": {},
     "output_type": "execute_result"
    }
   ],
   "source": [
    "daily_cards"
   ]
  },
  {
   "cell_type": "code",
   "execution_count": 8,
   "id": "a96710ee",
   "metadata": {},
   "outputs": [
    {
     "data": {
      "text/plain": [
       "{'average_sentiment_score': 36,\n",
       " 'dominant_emotions': [{'emotion': '상처', 'percentage': 0.5},\n",
       "  {'emotion': '중립', 'percentage': 0.25},\n",
       "  {'emotion': '기쁨', 'percentage': 0.25}],\n",
       " 'trend': {'by_day': [{'date': '2025-08-18', 'score': 20, 'top': '상처'},\n",
       "   {'date': '2025-08-21', 'score': 35, 'top': '중립'},\n",
       "   {'date': '2025-08-23', 'score': 30, 'top': '상처'},\n",
       "   {'date': '2025-08-24', 'score': 60, 'top': '기쁨'}],\n",
       "  'notable_changes': [{'date': '2025-08-21', 'event': '점수 급변', 'delta': 15},\n",
       "   {'date': '2025-08-21', 'event': '주감정 전환: 상처→중립'},\n",
       "   {'date': '2025-08-23', 'event': '주감정 전환: 중립→상처'},\n",
       "   {'date': '2025-08-24', 'event': '점수 급변', 'delta': 30},\n",
       "   {'date': '2025-08-24', 'event': '주감정 전환: 상처→기쁨'}]}}"
      ]
     },
     "execution_count": 8,
     "metadata": {},
     "output_type": "execute_result"
    }
   ],
   "source": [
    "period"
   ]
  },
  {
   "cell_type": "code",
   "execution_count": null,
   "id": "154b61c3",
   "metadata": {},
   "outputs": [],
   "source": []
  }
 ],
 "metadata": {
  "kernelspec": {
   "display_name": "feellog-project",
   "language": "python",
   "name": "python3"
  },
  "language_info": {
   "codemirror_mode": {
    "name": "ipython",
    "version": 3
   },
   "file_extension": ".py",
   "mimetype": "text/x-python",
   "name": "python",
   "nbconvert_exporter": "python",
   "pygments_lexer": "ipython3",
   "version": "3.9.23"
  }
 },
 "nbformat": 4,
 "nbformat_minor": 5
}
