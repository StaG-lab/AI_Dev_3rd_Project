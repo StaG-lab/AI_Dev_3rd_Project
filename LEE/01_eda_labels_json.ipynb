{
 "cells": [
  {
   "cell_type": "code",
   "execution_count": 3,
   "id": "965b9f36",
   "metadata": {},
   "outputs": [
    {
     "name": "stdout",
     "output_type": "stream",
     "text": [
      "Defaulting to user installation because normal site-packages is not writeable\n",
      "Requirement already satisfied: pip<25.3 in c:\\users\\user\\appdata\\roaming\\python\\python312\\site-packages (25.1.1)\n",
      "Collecting pip<25.3\n",
      "  Using cached pip-25.2-py3-none-any.whl.metadata (4.7 kB)\n",
      "Using cached pip-25.2-py3-none-any.whl (1.8 MB)\n"
     ]
    },
    {
     "name": "stderr",
     "output_type": "stream",
     "text": [
      "\n",
      "[notice] A new release of pip is available: 25.1.1 -> 25.2\n",
      "[notice] To update, run: python.exe -m pip install --upgrade pip\n",
      "ERROR: To modify pip, please run the following command:\n",
      "C:\\ProgramData\\anaconda3\\python.exe -m pip install -U pip<25.3\n"
     ]
    },
    {
     "name": "stdout",
     "output_type": "stream",
     "text": [
      "^C\n"
     ]
    },
    {
     "name": "stdout",
     "output_type": "stream",
     "text": [
      "Defaulting to user installation because normal site-packages is not writeable\n",
      "Requirement already satisfied: numpy==1.26.4 in c:\\users\\user\\appdata\\roaming\\python\\python312\\site-packages (1.26.4)\n",
      "Requirement already satisfied: pandas==2.2.2 in c:\\programdata\\anaconda3\\lib\\site-packages (2.2.2)\n",
      "Requirement already satisfied: matplotlib==3.8.4 in c:\\users\\user\\appdata\\roaming\\python\\python312\\site-packages (3.8.4)\n",
      "Requirement already satisfied: pillow==10.3.0 in c:\\users\\user\\appdata\\roaming\\python\\python312\\site-packages (10.3.0)\n",
      "Requirement already satisfied: scikit-learn==1.4.2 in c:\\users\\user\\appdata\\roaming\\python\\python312\\site-packages (1.4.2)\n",
      "Requirement already satisfied: opencv-python==4.10.0.84 in c:\\users\\user\\appdata\\roaming\\python\\python312\\site-packages (4.10.0.84)\n",
      "Requirement already satisfied: python-dateutil>=2.8.2 in c:\\programdata\\anaconda3\\lib\\site-packages (from pandas==2.2.2) (2.9.0.post0)\n",
      "Requirement already satisfied: pytz>=2020.1 in c:\\programdata\\anaconda3\\lib\\site-packages (from pandas==2.2.2) (2024.1)\n",
      "Requirement already satisfied: tzdata>=2022.7 in c:\\programdata\\anaconda3\\lib\\site-packages (from pandas==2.2.2) (2023.3)\n",
      "Requirement already satisfied: contourpy>=1.0.1 in c:\\users\\user\\appdata\\roaming\\python\\python312\\site-packages (from matplotlib==3.8.4) (1.3.3)\n",
      "Requirement already satisfied: cycler>=0.10 in c:\\programdata\\anaconda3\\lib\\site-packages (from matplotlib==3.8.4) (0.11.0)\n",
      "Requirement already satisfied: fonttools>=4.22.0 in c:\\programdata\\anaconda3\\lib\\site-packages (from matplotlib==3.8.4) (4.51.0)\n",
      "Requirement already satisfied: kiwisolver>=1.3.1 in c:\\programdata\\anaconda3\\lib\\site-packages (from matplotlib==3.8.4) (1.4.4)\n",
      "Requirement already satisfied: packaging>=20.0 in c:\\programdata\\anaconda3\\lib\\site-packages (from matplotlib==3.8.4) (24.1)\n",
      "Requirement already satisfied: pyparsing>=2.3.1 in c:\\programdata\\anaconda3\\lib\\site-packages (from matplotlib==3.8.4) (3.1.2)\n",
      "Requirement already satisfied: scipy>=1.6.0 in c:\\programdata\\anaconda3\\lib\\site-packages (from scikit-learn==1.4.2) (1.13.1)\n",
      "Requirement already satisfied: joblib>=1.2.0 in c:\\programdata\\anaconda3\\lib\\site-packages (from scikit-learn==1.4.2) (1.4.2)\n",
      "Requirement already satisfied: threadpoolctl>=2.0.0 in c:\\programdata\\anaconda3\\lib\\site-packages (from scikit-learn==1.4.2) (3.5.0)\n",
      "Requirement already satisfied: six>=1.5 in c:\\programdata\\anaconda3\\lib\\site-packages (from python-dateutil>=2.8.2->pandas==2.2.2) (1.16.0)\n"
     ]
    },
    {
     "name": "stderr",
     "output_type": "stream",
     "text": [
      "\n",
      "[notice] A new release of pip is available: 25.1.1 -> 25.2\n",
      "[notice] To update, run: python.exe -m pip install --upgrade pip\n"
     ]
    }
   ],
   "source": [
    "!pip install -U \"pip<25.3\"\n",
    "!pip install -U \"numpy==1.26.4\" \\\n",
    "               \"pandas==2.2.2\" \\\n",
    "               \"matplotlib==3.8.4\" \\\n",
    "               \"pillow==10.3.0\" \\\n",
    "               \"scikit-learn==1.4.2\" \\\n",
    "               \"opencv-python==4.10.0.84\""
   ]
  },
  {
   "cell_type": "code",
   "execution_count": 4,
   "id": "2bc5971b",
   "metadata": {},
   "outputs": [],
   "source": [
    "import os, json, glob\n",
    "from pathlib import Path\n",
    "import pandas as pd\n",
    "import matplotlib.pyplot as plt\n",
    "from PIL import Image\n",
    "from sklearn.model_selection import train_test_split\n",
    "\n",
    "# 그래프 한글 폰트 이슈가 있으면 주석 해제하고 시스템에 맞는 폰트를 지정하세요.\n",
    "# import matplotlib\n",
    "# matplotlib.rc('font', family='Malgun Gothic')  # 윈도우 '맑은 고딕'\n",
    "# plt.rcParams['axes.unicode_minus'] = False\n"
   ]
  },
  {
   "cell_type": "code",
   "execution_count": 11,
   "id": "f7e116b9",
   "metadata": {},
   "outputs": [
    {
     "name": "stdout",
     "output_type": "stream",
     "text": [
      "Font set to: ('Malgun Gothic', 'C:\\\\Windows\\\\Fonts\\\\malgun.ttf')\n"
     ]
    }
   ],
   "source": [
    "# 🔤 Matplotlib 한글 폰트 설정 (Windows/Mac/Linux 자동 시도)\n",
    "import os, sys\n",
    "import matplotlib\n",
    "from matplotlib import font_manager, rcParams\n",
    "\n",
    "def set_korean_font():\n",
    "    candidates = [\n",
    "        # Windows\n",
    "        (\"Malgun Gothic\", r\"C:\\Windows\\Fonts\\malgun.ttf\"),\n",
    "        # macOS\n",
    "        (\"AppleGothic\", \"/System/Library/Fonts/AppleGothic.ttf\"),\n",
    "        # Linux (설치되어 있으면)\n",
    "        (\"NanumGothic\", \"/usr/share/fonts/truetype/nanum/NanumGothic.ttf\"),\n",
    "        (\"Noto Sans CJK KR\", \"/usr/share/fonts/opentype/noto/NotoSansCJK-Regular.ttc\"),\n",
    "        (\"Noto Sans KR\", \"/usr/share/fonts/truetype/noto/NotoSansKR-Regular.otf\"),\n",
    "    ]\n",
    "\n",
    "    chosen = None\n",
    "    for name, path in candidates:\n",
    "        if os.path.exists(path):\n",
    "            try:\n",
    "                font_manager.fontManager.addfont(path)\n",
    "                rcParams[\"font.family\"] = name\n",
    "                chosen = (name, path)\n",
    "                break\n",
    "            except Exception:\n",
    "                pass\n",
    "\n",
    "    # 설치 경로를 못 찾았어도, 시스템에 이름만 등록되어 있을 수 있음\n",
    "    if not chosen:\n",
    "        for f in font_manager.findSystemFonts():\n",
    "            if any(k in f.lower() for k in [\"malgun\", \"applegothic\", \"nanum\", \"notosanscjk\", \"notosanskr\"]):\n",
    "                try:\n",
    "                    font_manager.fontManager.addfont(f)\n",
    "                    # 파일명에서 폰트 패밀리명 추정이 어려우니 DejaVu 대체로 설정\n",
    "                    # → 가능하면 아래 줄을 원하는 폰트 이름으로 바꿔주세요.\n",
    "                    rcParams[\"font.family\"] = \"DejaVu Sans\"\n",
    "                    chosen = (\"(system)\", f)\n",
    "                    break\n",
    "                except Exception:\n",
    "                    pass\n",
    "\n",
    "    # 그래프에서 음수 기호 깨짐 방지\n",
    "    rcParams[\"axes.unicode_minus\"] = False\n",
    "\n",
    "    print(\"Font set to:\", chosen or \"fallback (DejaVu Sans)\")\n",
    "\n",
    "set_korean_font()\n"
   ]
  },
  {
   "cell_type": "code",
   "execution_count": 5,
   "id": "0ece8a31",
   "metadata": {},
   "outputs": [
    {
     "data": {
      "text/plain": [
       "(WindowsPath('C:/Users/USER/Downloads/korean_emotion_complex_vision_1_percent'),\n",
       " WindowsPath('C:/Users/USER/Downloads/korean_emotion_complex_vision_1_percent/labels'),\n",
       " WindowsPath('C:/Users/USER/Downloads/korean_emotion_complex_vision_1_percent'),\n",
       " WindowsPath('C:/Users/USER/Downloads/korean_emotion_complex_vision_1_percent/processed'))"
      ]
     },
     "execution_count": 5,
     "metadata": {},
     "output_type": "execute_result"
    }
   ],
   "source": [
    "\\\n",
    "# ★★★ 여기만 확인/수정하세요 ★★★\n",
    "# 윈도우의 실제 데이터 폴더\n",
    "BASE_DIR = Path(r\"C:\\Users\\USER\\Downloads\\korean_emotion_complex_vision_1_percent\")\n",
    "\n",
    "# 서브 폴더들 (변경하지 않아도 됨)\n",
    "LABELS_DIR = BASE_DIR / \"labels\"                # JSON들이 들어있는 폴더\n",
    "EMOTION_DIR = BASE_DIR                           # 감정별 이미지 폴더들이 바로 아래에 있음 (중립/슬픔/상처/불안/분노/당황/기쁨)\n",
    "PROCESSED_DIR = BASE_DIR / \"processed\"           # 전처리 결과 저장 폴더(자동 생성)\n",
    "(PROCESSED_DIR / \"from_json\").mkdir(parents=True, exist_ok=True)\n",
    "(PROCESSED_DIR / \"from_folders\").mkdir(parents=True, exist_ok=True)\n",
    "\n",
    "BASE_DIR, LABELS_DIR, EMOTION_DIR, PROCESSED_DIR\n"
   ]
  },
  {
   "cell_type": "markdown",
   "id": "8f4817c1",
   "metadata": {},
   "source": [
    "### 1) JSON 파일 목록 확인"
   ]
  },
  {
   "cell_type": "code",
   "execution_count": 6,
   "id": "a4c53f15",
   "metadata": {},
   "outputs": [
    {
     "data": {
      "text/plain": [
       "['C:\\\\Users\\\\USER\\\\Downloads\\\\korean_emotion_complex_vision_1_percent\\\\labels\\\\기쁨_sampled.json',\n",
       " 'C:\\\\Users\\\\USER\\\\Downloads\\\\korean_emotion_complex_vision_1_percent\\\\labels\\\\당황_sampled.json',\n",
       " 'C:\\\\Users\\\\USER\\\\Downloads\\\\korean_emotion_complex_vision_1_percent\\\\labels\\\\분노_sampled.json',\n",
       " 'C:\\\\Users\\\\USER\\\\Downloads\\\\korean_emotion_complex_vision_1_percent\\\\labels\\\\불안_sampled.json',\n",
       " 'C:\\\\Users\\\\USER\\\\Downloads\\\\korean_emotion_complex_vision_1_percent\\\\labels\\\\상처_sampled.json',\n",
       " 'C:\\\\Users\\\\USER\\\\Downloads\\\\korean_emotion_complex_vision_1_percent\\\\labels\\\\슬픔_sampled.json',\n",
       " 'C:\\\\Users\\\\USER\\\\Downloads\\\\korean_emotion_complex_vision_1_percent\\\\labels\\\\중립_sampled.json']"
      ]
     },
     "execution_count": 6,
     "metadata": {},
     "output_type": "execute_result"
    }
   ],
   "source": [
    "json_files = sorted(glob.glob(str(LABELS_DIR / \"*_sampled.json\")))\n",
    "json_files\n"
   ]
  },
  {
   "cell_type": "markdown",
   "id": "c241cb1d",
   "metadata": {},
   "source": [
    "### 2) 다양한 구조(JSON 리스트/COCO)를 안전하게 읽어 `DataFrame`으로 합치기"
   ]
  },
  {
   "cell_type": "code",
   "execution_count": 7,
   "id": "d99de03b",
   "metadata": {},
   "outputs": [
    {
     "data": {
      "text/html": [
       "<div>\n",
       "<style scoped>\n",
       "    .dataframe tbody tr th:only-of-type {\n",
       "        vertical-align: middle;\n",
       "    }\n",
       "\n",
       "    .dataframe tbody tr th {\n",
       "        vertical-align: top;\n",
       "    }\n",
       "\n",
       "    .dataframe thead th {\n",
       "        text-align: right;\n",
       "    }\n",
       "</style>\n",
       "<table border=\"1\" class=\"dataframe\">\n",
       "  <thead>\n",
       "    <tr style=\"text-align: right;\">\n",
       "      <th></th>\n",
       "      <th>file_name</th>\n",
       "      <th>label</th>\n",
       "      <th>bbox</th>\n",
       "    </tr>\n",
       "  </thead>\n",
       "  <tbody>\n",
       "    <tr>\n",
       "      <th>0</th>\n",
       "      <td>5a30dc193e2c6144184968043c00773270b111a23a3c83...</td>\n",
       "      <td>기쁨</td>\n",
       "      <td>None</td>\n",
       "    </tr>\n",
       "    <tr>\n",
       "      <th>1</th>\n",
       "      <td>0d18ae1ed7d9e912864b736523a94a24db0595bf273964...</td>\n",
       "      <td>기쁨</td>\n",
       "      <td>None</td>\n",
       "    </tr>\n",
       "    <tr>\n",
       "      <th>2</th>\n",
       "      <td>8f7e2f5214659c45cdcbc99a4e9ec29cf0b7571844a28e...</td>\n",
       "      <td>기쁨</td>\n",
       "      <td>None</td>\n",
       "    </tr>\n",
       "    <tr>\n",
       "      <th>3</th>\n",
       "      <td>2964f04ec5e9bcc45276def3a6e08a3c2d1418995cf31f...</td>\n",
       "      <td>기쁨</td>\n",
       "      <td>None</td>\n",
       "    </tr>\n",
       "    <tr>\n",
       "      <th>4</th>\n",
       "      <td>5feb258aabe4308f740ab36c133ef854074b138dcad3d6...</td>\n",
       "      <td>기쁨</td>\n",
       "      <td>None</td>\n",
       "    </tr>\n",
       "  </tbody>\n",
       "</table>\n",
       "</div>"
      ],
      "text/plain": [
       "                                           file_name label  bbox\n",
       "0  5a30dc193e2c6144184968043c00773270b111a23a3c83...    기쁨  None\n",
       "1  0d18ae1ed7d9e912864b736523a94a24db0595bf273964...    기쁨  None\n",
       "2  8f7e2f5214659c45cdcbc99a4e9ec29cf0b7571844a28e...    기쁨  None\n",
       "3  2964f04ec5e9bcc45276def3a6e08a3c2d1418995cf31f...    기쁨  None\n",
       "4  5feb258aabe4308f740ab36c133ef854074b138dcad3d6...    기쁨  None"
      ]
     },
     "execution_count": 7,
     "metadata": {},
     "output_type": "execute_result"
    }
   ],
   "source": [
    "def parse_json_to_rows(json_path: Path, default_label=None):\n",
    "    with open(json_path, 'r', encoding='utf-8') as f:\n",
    "        data = json.load(f)\n",
    "\n",
    "    rows = []\n",
    "    # COCO-like\n",
    "    if isinstance(data, dict) and 'annotations' in data and 'images' in data:\n",
    "        imgs = {img['id']: img for img in data['images']}\n",
    "        categories = {c['id']: c.get('name', c['id']) for c in data.get('categories', [])}\n",
    "        for a in data['annotations']:\n",
    "            img = imgs.get(a['image_id'], {})\n",
    "            rows.append({\n",
    "                'file_name': img.get('file_name'),\n",
    "                'label': categories.get(a.get('category_id')) or default_label,\n",
    "                'bbox': a.get('bbox')\n",
    "            })\n",
    "    # simple list\n",
    "    elif isinstance(data, list):\n",
    "        for e in data:\n",
    "            rows.append({\n",
    "                'file_name': e.get('image') or e.get('file_name') or e.get('filename'),\n",
    "                'label': e.get('label') or e.get('emotion') or default_label,\n",
    "                'bbox': e.get('bbox')\n",
    "            })\n",
    "    else:\n",
    "        print(f\"[경고] 지원하지 않는 구조: {json_path.name}\")\n",
    "    return rows\n",
    "\n",
    "all_rows = []\n",
    "for jp in json_files:\n",
    "    # 파일명에서 감정명 추출 (예: '기쁨_sampled.json' → '기쁨')\n",
    "    default_label = Path(jp).stem.replace(\"_sampled\",\"\")\n",
    "    all_rows.extend(parse_json_to_rows(Path(jp), default_label=default_label))\n",
    "\n",
    "df = pd.DataFrame(all_rows)\n",
    "df.head()\n"
   ]
  },
  {
   "cell_type": "markdown",
   "id": "47dcb13f",
   "metadata": {},
   "source": [
    "### 3) 라벨 분포 보기"
   ]
  },
  {
   "cell_type": "code",
   "execution_count": 13,
   "id": "f9f70e10",
   "metadata": {},
   "outputs": [
    {
     "data": {
      "image/png": "[encoded data removed]",
      "text/plain": [
       "<Figure size 640x480 with 1 Axes>"
      ]
     },
     "metadata": {},
     "output_type": "display_data"
    }
   ],
   "source": [
    "label_counts.plot(kind='bar')\n",
    "plt.title('라벨 분포')\n",
    "plt.xlabel('감정')\n",
    "plt.ylabel('개수')\n",
    "plt.xticks(rotation=0)  # x축 글씨 각도 0도로 설정 → 가로쓰기\n",
    "plt.show()\n"
   ]
  },
  {
   "cell_type": "markdown",
   "id": "f925cc3f",
   "metadata": {},
   "source": [
    "### 4) 이미지 경로 존재 여부 및 bbox 면적 통계"
   ]
  },
  {
   "cell_type": "code",
   "execution_count": 9,
   "id": "d40f1c40",
   "metadata": {},
   "outputs": [
    {
     "data": {
      "text/plain": [
       "exists\n",
       "False    2210\n",
       "Name: count, dtype: int64"
      ]
     },
     "metadata": {},
     "output_type": "display_data"
    },
    {
     "data": {
      "text/plain": [
       "count       0\n",
       "unique      0\n",
       "top       NaN\n",
       "freq      NaN\n",
       "Name: bbox_area, dtype: object"
      ]
     },
     "execution_count": 9,
     "metadata": {},
     "output_type": "execute_result"
    }
   ],
   "source": [
    "def exists_rel(fname):\n",
    "    if not fname: return False\n",
    "    p = (EMOTION_DIR / fname) if not Path(fname).is_absolute() else Path(fname)\n",
    "    return p.exists()\n",
    "\n",
    "df['exists'] = df['file_name'].apply(exists_rel)\n",
    "\n",
    "def bbox_area(b):\n",
    "    try:\n",
    "        x,y,w,h = b\n",
    "        return float(w) * float(h)\n",
    "    except:\n",
    "        return None\n",
    "\n",
    "df['bbox_area'] = df['bbox'].apply(bbox_area)\n",
    "\n",
    "display(df['exists'].value_counts())\n",
    "df['bbox_area'].describe()\n"
   ]
  },
  {
   "cell_type": "markdown",
   "id": "107aad28",
   "metadata": {},
   "source": [
    "### 5) 결과 테이블 CSV 저장 (선택)"
   ]
  },
  {
   "cell_type": "code",
   "execution_count": 10,
   "id": "e174de04",
   "metadata": {},
   "outputs": [
    {
     "data": {
      "text/plain": [
       "WindowsPath('C:/Users/USER/Downloads/korean_emotion_complex_vision_1_percent/labels_eda_table.csv')"
      ]
     },
     "execution_count": 10,
     "metadata": {},
     "output_type": "execute_result"
    }
   ],
   "source": [
    "out_csv = BASE_DIR / \"labels_eda_table.csv\"\n",
    "df.to_csv(out_csv, index=False)\n",
    "out_csv\n"
   ]
  }
 ],
 "metadata": {
  "kernelspec": {
   "display_name": "base",
   "language": "python",
   "name": "python3"
  },
  "language_info": {
   "codemirror_mode": {
    "name": "ipython",
    "version": 3
   },
   "file_extension": ".py",
   "mimetype": "text/x-python",
   "name": "python",
   "nbconvert_exporter": "python",
   "pygments_lexer": "ipython3",
   "version": "3.12.7"
  }
 },
 "nbformat": 4,
 "nbformat_minor": 5
}
