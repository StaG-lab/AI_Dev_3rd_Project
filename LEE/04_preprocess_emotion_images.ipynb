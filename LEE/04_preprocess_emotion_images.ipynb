{
 "cells": [
  {
   "cell_type": "markdown",
   "id": "6733f8fc",
   "metadata": {},
   "source": []
  },
  {
   "cell_type": "code",
   "execution_count": 1,
   "id": "93f439dd",
   "metadata": {},
   "outputs": [
    {
     "name": "stdout",
     "output_type": "stream",
     "text": [
      "Defaulting to user installation because normal site-packages is not writeable\n",
      "Requirement already satisfied: pip<25.3 in c:\\users\\user\\appdata\\roaming\\python\\python312\\site-packages (25.1.1)\n",
      "Collecting pip<25.3\n",
      "  Using cached pip-25.2-py3-none-any.whl.metadata (4.7 kB)\n",
      "Using cached pip-25.2-py3-none-any.whl (1.8 MB)\n"
     ]
    },
    {
     "name": "stderr",
     "output_type": "stream",
     "text": [
      "\n",
      "[notice] A new release of pip is available: 25.1.1 -> 25.2\n",
      "[notice] To update, run: python.exe -m pip install --upgrade pip\n",
      "ERROR: To modify pip, please run the following command:\n",
      "C:\\ProgramData\\anaconda3\\python.exe -m pip install -U pip<25.3\n"
     ]
    },
    {
     "name": "stdout",
     "output_type": "stream",
     "text": [
      "Defaulting to user installation because normal site-packages is not writeable\n",
      "Requirement already satisfied: numpy==1.26.4 in c:\\users\\user\\appdata\\roaming\\python\\python312\\site-packages (1.26.4)\n",
      "Requirement already satisfied: pandas==2.2.2 in c:\\programdata\\anaconda3\\lib\\site-packages (2.2.2)\n",
      "Requirement already satisfied: matplotlib==3.8.4 in c:\\users\\user\\appdata\\roaming\\python\\python312\\site-packages (3.8.4)\n",
      "Requirement already satisfied: pillow==10.3.0 in c:\\users\\user\\appdata\\roaming\\python\\python312\\site-packages (10.3.0)\n",
      "Requirement already satisfied: scikit-learn==1.4.2 in c:\\users\\user\\appdata\\roaming\\python\\python312\\site-packages (1.4.2)\n",
      "Requirement already satisfied: opencv-python==4.10.0.84 in c:\\users\\user\\appdata\\roaming\\python\\python312\\site-packages (4.10.0.84)\n",
      "Requirement already satisfied: python-dateutil>=2.8.2 in c:\\programdata\\anaconda3\\lib\\site-packages (from pandas==2.2.2) (2.9.0.post0)\n",
      "Requirement already satisfied: pytz>=2020.1 in c:\\programdata\\anaconda3\\lib\\site-packages (from pandas==2.2.2) (2024.1)\n",
      "Requirement already satisfied: tzdata>=2022.7 in c:\\programdata\\anaconda3\\lib\\site-packages (from pandas==2.2.2) (2023.3)\n",
      "Requirement already satisfied: contourpy>=1.0.1 in c:\\users\\user\\appdata\\roaming\\python\\python312\\site-packages (from matplotlib==3.8.4) (1.3.3)\n",
      "Requirement already satisfied: cycler>=0.10 in c:\\programdata\\anaconda3\\lib\\site-packages (from matplotlib==3.8.4) (0.11.0)\n",
      "Requirement already satisfied: fonttools>=4.22.0 in c:\\programdata\\anaconda3\\lib\\site-packages (from matplotlib==3.8.4) (4.51.0)\n",
      "Requirement already satisfied: kiwisolver>=1.3.1 in c:\\programdata\\anaconda3\\lib\\site-packages (from matplotlib==3.8.4) (1.4.4)\n",
      "Requirement already satisfied: packaging>=20.0 in c:\\programdata\\anaconda3\\lib\\site-packages (from matplotlib==3.8.4) (24.1)\n",
      "Requirement already satisfied: pyparsing>=2.3.1 in c:\\programdata\\anaconda3\\lib\\site-packages (from matplotlib==3.8.4) (3.1.2)\n",
      "Requirement already satisfied: scipy>=1.6.0 in c:\\programdata\\anaconda3\\lib\\site-packages (from scikit-learn==1.4.2) (1.13.1)\n",
      "Requirement already satisfied: joblib>=1.2.0 in c:\\programdata\\anaconda3\\lib\\site-packages (from scikit-learn==1.4.2) (1.4.2)\n",
      "Requirement already satisfied: threadpoolctl>=2.0.0 in c:\\programdata\\anaconda3\\lib\\site-packages (from scikit-learn==1.4.2) (3.5.0)\n",
      "Requirement already satisfied: six>=1.5 in c:\\programdata\\anaconda3\\lib\\site-packages (from python-dateutil>=2.8.2->pandas==2.2.2) (1.16.0)\n"
     ]
    },
    {
     "name": "stderr",
     "output_type": "stream",
     "text": [
      "\n",
      "[notice] A new release of pip is available: 25.1.1 -> 25.2\n",
      "[notice] To update, run: python.exe -m pip install --upgrade pip\n"
     ]
    }
   ],
   "source": [
    "!pip install -U \"pip<25.3\"\n",
    "!pip install -U \"numpy==1.26.4\" \\\n",
    "               \"pandas==2.2.2\" \\\n",
    "               \"matplotlib==3.8.4\" \\\n",
    "               \"pillow==10.3.0\" \\\n",
    "               \"scikit-learn==1.4.2\" \\\n",
    "               \"opencv-python==4.10.0.84\"\n"
   ]
  },
  {
   "cell_type": "code",
   "execution_count": 2,
   "id": "62975c58",
   "metadata": {},
   "outputs": [],
   "source": [
    "import os, json, glob\n",
    "from pathlib import Path\n",
    "import pandas as pd\n",
    "import matplotlib.pyplot as plt\n",
    "from PIL import Image\n",
    "from sklearn.model_selection import train_test_split\n",
    "\n",
    "# 그래프 한글 폰트 이슈가 있으면 주석 해제하고 시스템에 맞는 폰트를 지정하세요.\n",
    "# import matplotlib\n",
    "# matplotlib.rc('font', family='Malgun Gothic')  # 윈도우 '맑은 고딕'\n",
    "# plt.rcParams['axes.unicode_minus'] = False\n"
   ]
  },
  {
   "cell_type": "code",
   "execution_count": 3,
   "id": "bb4dc1d5",
   "metadata": {},
   "outputs": [
    {
     "name": "stdout",
     "output_type": "stream",
     "text": [
      "Matplotlib font set to Malgun Gothic.\n"
     ]
    }
   ],
   "source": [
    "# Windows 한글 폰트 설정 (맑은 고딕)\n",
    "from matplotlib import rcParams, font_manager\n",
    "try:\n",
    "    font_manager.fontManager.addfont(r\"C:\\Windows\\Fonts\\malgun.ttf\")\n",
    "    rcParams[\"font.family\"] = \"Malgun Gothic\"\n",
    "    rcParams[\"axes.unicode_minus\"] = False\n",
    "    print(\"Matplotlib font set to Malgun Gothic.\")\n",
    "except Exception as e:\n",
    "    print(\"폰트 설정 실패:\", e)\n"
   ]
  },
  {
   "cell_type": "code",
   "execution_count": 4,
   "id": "7940a7c8",
   "metadata": {},
   "outputs": [
    {
     "data": {
      "text/plain": [
       "(WindowsPath('C:/Users/USER/Downloads/korean_emotion_complex_vision_1_percent'),\n",
       " WindowsPath('C:/Users/USER/Downloads/korean_emotion_complex_vision_1_percent/labels'),\n",
       " WindowsPath('C:/Users/USER/Downloads/korean_emotion_complex_vision_1_percent'),\n",
       " WindowsPath('C:/Users/USER/Downloads/korean_emotion_complex_vision_1_percent/processed'))"
      ]
     },
     "execution_count": 4,
     "metadata": {},
     "output_type": "execute_result"
    }
   ],
   "source": [
    "\\\n",
    "# ★★★ 여기만 확인/수정하세요 ★★★\n",
    "# 윈도우의 실제 데이터 폴더\n",
    "BASE_DIR = Path(r\"C:\\Users\\USER\\Downloads\\korean_emotion_complex_vision_1_percent\")\n",
    "\n",
    "# 서브 폴더들 (변경하지 않아도 됨)\n",
    "LABELS_DIR = BASE_DIR / \"labels\"                # JSON들이 들어있는 폴더\n",
    "EMOTION_DIR = BASE_DIR                           # 감정별 이미지 폴더들이 바로 아래에 있음 (중립/슬픔/상처/불안/분노/당황/기쁨)\n",
    "PROCESSED_DIR = BASE_DIR / \"processed\"           # 전처리 결과 저장 폴더(자동 생성)\n",
    "(PROCESSED_DIR / \"from_json\").mkdir(parents=True, exist_ok=True)\n",
    "(PROCESSED_DIR / \"from_folders\").mkdir(parents=True, exist_ok=True)\n",
    "\n",
    "BASE_DIR, LABELS_DIR, EMOTION_DIR, PROCESSED_DIR\n"
   ]
  },
  {
   "cell_type": "markdown",
   "id": "61adba7b",
   "metadata": {},
   "source": [
    "### 1) 감정 폴더 스캔"
   ]
  },
  {
   "cell_type": "code",
   "execution_count": 5,
   "id": "43061ff7",
   "metadata": {},
   "outputs": [
    {
     "data": {
      "text/plain": [
       "['samples', '기쁨', '당황', '분노', '불안', '상처', '슬픔', '중립']"
      ]
     },
     "execution_count": 5,
     "metadata": {},
     "output_type": "execute_result"
    }
   ],
   "source": [
    "emotions = []\n",
    "for p in EMOTION_DIR.iterdir():\n",
    "    if p.is_dir() and p.name not in ['labels', 'processed']:\n",
    "        emotions.append(p.name)\n",
    "emotions\n"
   ]
  },
  {
   "cell_type": "markdown",
   "id": "446971f1",
   "metadata": {},
   "source": [
    "### 2) 224×224 전처리 저장"
   ]
  },
  {
   "cell_type": "code",
   "execution_count": null,
   "id": "856f2148",
   "metadata": {},
   "outputs": [],
   "source": [
    "out_root = PROCESSED_DIR / \"from_folders\"\n",
    "out_root.mkdir(exist_ok=True)\n",
    "records = []\n",
    "\n",
    "def resize_center_square(im, target=224):\n",
    "    w,h = im.size\n",
    "    scale = target / min(w,h)\n",
    "    nw, nh = int(w*scale), int(h*scale)\n",
    "    im2 = im.resize((nw,nh), Image.BICUBIC)\n",
    "    left = max(0, (nw - target)//2)\n",
    "    top = max(0, (nh - target)//2)\n",
    "    return im2.crop((left, top, left+target, top+target))\n",
    "\n",
    "for em in emotions:\n",
    "    src_dir = EMOTION_DIR / em\n",
    "    dst_dir = out_root / em\n",
    "    dst_dir.mkdir(parents=True, exist_ok=True)\n",
    "    for ext in ('*.jpg','*.jpeg','*.png','*.bmp','*.webp'):\n",
    "        for p in src_dir.glob(ext):\n",
    "            try:\n",
    "                with Image.open(p) as im:\n",
    "                    im = im.convert('RGB')\n",
    "                    proc = resize_center_square(im, target=224)\n",
    "                out_path = dst_dir / (p.stem + \".jpg\")\n",
    "                proc.save(out_path, quality=90)\n",
    "                records.append({'file': str(out_path), 'label': em})\n",
    "            except Exception as e:\n",
    "                print(\"처리 실패:\", p, e)\n",
    "\n",
    "df_fold = pd.DataFrame(records)\n",
    "df_fold.head(), len(df_fold)\n"
   ]
  },
  {
   "cell_type": "markdown",
   "id": "46170d40",
   "metadata": {},
   "source": [
    "### 3) CSV 저장"
   ]
  },
  {
   "cell_type": "code",
   "execution_count": null,
   "id": "04e7fc27",
   "metadata": {},
   "outputs": [],
   "source": [
    "out_csv = BASE_DIR / \"processed_folders_labels.csv\"\n",
    "df_fold.to_csv(out_csv, index=False)\n",
    "out_csv\n"
   ]
  }
 ],
 "metadata": {
  "kernelspec": {
   "display_name": "base",
   "language": "python",
   "name": "python3"
  },
  "language_info": {
   "codemirror_mode": {
    "name": "ipython",
    "version": 3
   },
   "file_extension": ".py",
   "mimetype": "text/x-python",
   "name": "python",
   "nbconvert_exporter": "python",
   "pygments_lexer": "ipython3",
   "version": "3.12.7"
  }
 },
 "nbformat": 4,
 "nbformat_minor": 5
}
