{
 "cells": [
  {
   "cell_type": "markdown",
   "id": "0b353a35",
   "metadata": {},
   "source": [
    "# 필로그(Feel-Log) — 데이터 EDA & 전처리 노트북\n",
    "\n",
    "이 노트북은 **완전 초보자를 위한 셀 단위 가이드**입니다. 각 셀을 **위에서부터 차례대로** 실행하세요 (`Shift+Enter`).  \n",
    "윈도우 경로가 이미 반영되어 있으며, 필요하면 첫 번째 셀에서 `BASE_DIR`만 바꾸면 됩니다.\n",
    "\n",
    "\n",
    "## 02 — 감정별 이미지 폴더 EDA"
   ]
  },
  {
   "cell_type": "code",
   "execution_count": null,
   "id": "c679b635",
   "metadata": {},
   "outputs": [],
   "source": [
    "# 버전 충돌 방지를 위해 호환 버전으로 설치 (한 번만 실행하면 됩니다)\n",
    "!pip install -U \"pip<25.3\"\n",
    "!pip install -U \"numpy==1.26.4\" \\\n",
    "               \"pandas==2.2.2\" \\\n",
    "               \"matplotlib==3.8.4\" \\\n",
    "               \"pillow==10.3.0\" \\\n",
    "               \"scikit-learn==1.4.2\" \\\n",
    "               \"opencv-python==4.10.0.84\"\n"
   ]
  },
  {
   "cell_type": "code",
   "execution_count": null,
   "id": "3ad0ab20",
   "metadata": {},
   "outputs": [],
   "source": [
    "import os, json, glob\n",
    "from pathlib import Path\n",
    "import pandas as pd\n",
    "import matplotlib.pyplot as plt\n",
    "from PIL import Image\n",
    "from sklearn.model_selection import train_test_split\n",
    "\n",
    "# 그래프 한글 폰트 이슈가 있으면 주석 해제하고 시스템에 맞는 폰트를 지정하세요.\n",
    "# import matplotlib\n",
    "# matplotlib.rc('font', family='Malgun Gothic')  # 윈도우 '맑은 고딕'\n",
    "# plt.rcParams['axes.unicode_minus'] = False\n"
   ]
  },
  {
   "cell_type": "code",
   "execution_count": null,
   "id": "7a32a384",
   "metadata": {},
   "outputs": [],
   "source": [
    "# Windows 한글 폰트 설정 (맑은 고딕)\n",
    "from matplotlib import rcParams, font_manager\n",
    "try:\n",
    "    font_manager.fontManager.addfont(r\"C:\\Windows\\Fonts\\malgun.ttf\")\n",
    "    rcParams[\"font.family\"] = \"Malgun Gothic\"\n",
    "    rcParams[\"axes.unicode_minus\"] = False\n",
    "    print(\"Matplotlib font set to Malgun Gothic.\")\n",
    "except Exception as e:\n",
    "    print(\"폰트 설정 실패:\", e)\n"
   ]
  },
  {
   "cell_type": "code",
   "execution_count": null,
   "id": "2060b6f6",
   "metadata": {},
   "outputs": [],
   "source": [
    "\\\n",
    "# ★★★ 여기만 확인/수정하세요 ★★★\n",
    "# 윈도우의 실제 데이터 폴더\n",
    "BASE_DIR = Path(r\"C:\\Users\\USER\\Downloads\\korean_emotion_complex_vision_1_percent\")\n",
    "\n",
    "# 서브 폴더들 (변경하지 않아도 됨)\n",
    "LABELS_DIR = BASE_DIR / \"labels\"                # JSON들이 들어있는 폴더\n",
    "EMOTION_DIR = BASE_DIR                           # 감정별 이미지 폴더들이 바로 아래에 있음 (중립/슬픔/상처/불안/분노/당황/기쁨)\n",
    "PROCESSED_DIR = BASE_DIR / \"processed\"           # 전처리 결과 저장 폴더(자동 생성)\n",
    "(PROCESSED_DIR / \"from_json\").mkdir(parents=True, exist_ok=True)\n",
    "(PROCESSED_DIR / \"from_folders\").mkdir(parents=True, exist_ok=True)\n",
    "\n",
    "BASE_DIR, LABELS_DIR, EMOTION_DIR, PROCESSED_DIR\n"
   ]
  },
  {
   "cell_type": "markdown",
   "id": "fcdc94d9",
   "metadata": {},
   "source": [
    "### 1) 감정 폴더 목록 스캔"
   ]
  },
  {
   "cell_type": "code",
   "execution_count": null,
   "id": "4ef70028",
   "metadata": {},
   "outputs": [],
   "source": [
    "emotions = []\n",
    "for p in EMOTION_DIR.iterdir():\n",
    "    if p.is_dir() and p.name not in ['labels', 'processed']:\n",
    "        emotions.append(p.name)\n",
    "emotions\n"
   ]
  },
  {
   "cell_type": "markdown",
   "id": "33d775c4",
   "metadata": {},
   "source": [
    "### 2) 이미지 메타데이터 테이블 만들기"
   ]
  },
  {
   "cell_type": "code",
   "execution_count": null,
   "id": "efc018dd",
   "metadata": {},
   "outputs": [],
   "source": [
    "records = []\n",
    "for em in emotions:\n",
    "    em_dir = EMOTION_DIR / em\n",
    "    for ext in ('*.jpg','*.jpeg','*.png','*.bmp','*.webp'):\n",
    "        for img_path in em_dir.glob(ext):\n",
    "            try:\n",
    "                with Image.open(img_path) as im:\n",
    "                    w,h = im.size\n",
    "                    mode = im.mode\n",
    "                records.append({'emotion':em, 'path':str(img_path), 'width':w, 'height':h, 'mode':mode})\n",
    "            except Exception as e:\n",
    "                records.append({'emotion':em, 'path':str(img_path), 'width':None, 'height':None, 'mode':None, 'error':str(e)})\n",
    "df_img = pd.DataFrame(records)\n",
    "df_img.head()\n"
   ]
  },
  {
   "cell_type": "markdown",
   "id": "bd2e2c16",
   "metadata": {},
   "source": [
    "### 3) 클래스별 개수와 해상도 분포"
   ]
  },
  {
   "cell_type": "code",
   "execution_count": null,
   "id": "efdd38cf",
   "metadata": {},
   "outputs": [],
   "source": [
    "display(df_img.groupby('emotion')['path'].count().sort_values(ascending=False))\n",
    "plt.figure(figsize=(6,4))\n",
    "df_img['width'].dropna().hist(bins=30)\n",
    "plt.title('이미지 가로 길이 분포')\n",
    "plt.xlabel('width')\n",
    "plt.ylabel('count')\n",
    "plt.xticks(rotation=0)\n",
    "plt.show()\n"
   ]
  },
  {
   "cell_type": "markdown",
   "id": "dfdfe88e",
   "metadata": {},
   "source": [
    "### 4) 샘플 이미지 썸네일 저장 (각 클래스 최대 3개)"
   ]
  },
  {
   "cell_type": "code",
   "execution_count": null,
   "id": "a13d2f6f",
   "metadata": {},
   "outputs": [],
   "source": [
    "sample_out = BASE_DIR / \"samples\"\n",
    "sample_out.mkdir(exist_ok=True)\n",
    "for em, g in df_img.groupby('emotion'):\n",
    "    sample = g['path'].dropna().sample(min(3,len(g)), random_state=42) if len(g)>0 else []\n",
    "    for i, p in enumerate(sample):\n",
    "        with Image.open(p) as im:\n",
    "            im.thumbnail((256,256))\n",
    "            im.save(sample_out / f\"{em}_{i}.jpg\")\n",
    "list(sample_out.iterdir())[:10]\n"
   ]
  },
  {
   "cell_type": "markdown",
   "id": "3eca2102",
   "metadata": {},
   "source": [
    "### 5) 결과 CSV 저장 (선택)"
   ]
  },
  {
   "cell_type": "code",
   "execution_count": null,
   "id": "40995276",
   "metadata": {},
   "outputs": [],
   "source": [
    "out_csv = BASE_DIR / \"images_eda_table.csv\"\n",
    "df_img.to_csv(out_csv, index=False)\n",
    "out_csv\n"
   ]
  }
 ],
 "metadata": {},
 "nbformat": 4,
 "nbformat_minor": 5
}
